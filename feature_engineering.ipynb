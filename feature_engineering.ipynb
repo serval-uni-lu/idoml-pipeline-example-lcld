{
 "cells": [
  {
   "cell_type": "markdown",
   "id": "feature-engineering-title",
   "metadata": {},
   "source": [
    "# Feature engineering"
   ]
  },
  {
   "cell_type": "markdown",
   "id": "feature-engineering-dependency-management",
   "metadata": {},
   "source": [
    "## Dependency management"
   ]
  },
  {
   "cell_type": "code",
   "execution_count": 1,
   "id": "feature-engineering-imports",
   "metadata": {},
   "outputs": [],
   "source": [
    "import pandas as pd\n",
    "import numpy as np\n",
    "import os"
   ]
  },
  {
   "cell_type": "markdown",
   "id": "feature-engineering-subtitle-minio",
   "metadata": {},
   "source": [
    "## Minio Bucket setup"
   ]
  },
  {
   "cell_type": "code",
   "execution_count": 2,
   "id": "feature-engineering-env-vars",
   "metadata": {},
   "outputs": [],
   "source": [
    "MINIO_ENDPOINT = 'http://minio.idoml.precision.uni.lux'\n",
    "CLEANED_FILENAME = 'lcld/cleaned_data'\n",
    "FEATURE_FILENAME = 'lcld/feature_data'"
   ]
  },
  {
   "cell_type": "code",
   "execution_count": 3,
   "id": "feature-engineering-path",
   "metadata": {},
   "outputs": [],
   "source": [
    "bucket_name = 'datasets'\n",
    "filepath = f'{bucket_name}/{CLEANED_FILENAME}.csv'"
   ]
  },
  {
   "cell_type": "markdown",
   "id": "feature-engineering-subtitle-load-data",
   "metadata": {},
   "source": [
    "## Load pandas dataframe from S3"
   ]
  },
  {
   "cell_type": "code",
   "execution_count": 4,
   "id": "feature-engineering-load-data",
   "metadata": {},
   "outputs": [],
   "source": [
    "df = pd.read_csv(\n",
    "    f's3://{filepath}',\n",
    "    storage_options={\n",
    "        'client_kwargs': {'endpoint_url': MINIO_ENDPOINT}\n",
    "    }\n",
    ")"
   ]
  },
  {
   "cell_type": "code",
   "execution_count": 5,
   "id": "9f0cef6f-ab5e-41a7-bf72-9472a2f2a0b1",
   "metadata": {
    "tags": []
   },
   "outputs": [
    {
     "data": {
      "text/html": [
       "<div>\n",
       "<style scoped>\n",
       "    .dataframe tbody tr th:only-of-type {\n",
       "        vertical-align: middle;\n",
       "    }\n",
       "\n",
       "    .dataframe tbody tr th {\n",
       "        vertical-align: top;\n",
       "    }\n",
       "\n",
       "    .dataframe thead th {\n",
       "        text-align: right;\n",
       "    }\n",
       "</style>\n",
       "<table border=\"1\" class=\"dataframe\">\n",
       "  <thead>\n",
       "    <tr style=\"text-align: right;\">\n",
       "      <th></th>\n",
       "      <th>id</th>\n",
       "      <th>loan_amnt</th>\n",
       "      <th>term</th>\n",
       "      <th>int_rate</th>\n",
       "      <th>installment</th>\n",
       "      <th>grade</th>\n",
       "      <th>sub_grade</th>\n",
       "      <th>emp_title</th>\n",
       "      <th>emp_length</th>\n",
       "      <th>home_ownership</th>\n",
       "      <th>...</th>\n",
       "      <th>fico_range_high</th>\n",
       "      <th>open_acc</th>\n",
       "      <th>pub_rec</th>\n",
       "      <th>revol_bal</th>\n",
       "      <th>revol_util</th>\n",
       "      <th>total_acc</th>\n",
       "      <th>initial_list_status</th>\n",
       "      <th>application_type</th>\n",
       "      <th>mort_acc</th>\n",
       "      <th>pub_rec_bankruptcies</th>\n",
       "    </tr>\n",
       "  </thead>\n",
       "  <tbody>\n",
       "    <tr>\n",
       "      <th>0</th>\n",
       "      <td>68407277</td>\n",
       "      <td>3600.0</td>\n",
       "      <td>36 months</td>\n",
       "      <td>13.99</td>\n",
       "      <td>123.03</td>\n",
       "      <td>C</td>\n",
       "      <td>C4</td>\n",
       "      <td>leadman</td>\n",
       "      <td>10+ years</td>\n",
       "      <td>MORTGAGE</td>\n",
       "      <td>...</td>\n",
       "      <td>679.0</td>\n",
       "      <td>7.0</td>\n",
       "      <td>0.0</td>\n",
       "      <td>2765.0</td>\n",
       "      <td>29.7</td>\n",
       "      <td>13.0</td>\n",
       "      <td>w</td>\n",
       "      <td>Individual</td>\n",
       "      <td>1.0</td>\n",
       "      <td>0.0</td>\n",
       "    </tr>\n",
       "    <tr>\n",
       "      <th>1</th>\n",
       "      <td>68355089</td>\n",
       "      <td>24700.0</td>\n",
       "      <td>36 months</td>\n",
       "      <td>11.99</td>\n",
       "      <td>820.28</td>\n",
       "      <td>C</td>\n",
       "      <td>C1</td>\n",
       "      <td>Engineer</td>\n",
       "      <td>10+ years</td>\n",
       "      <td>MORTGAGE</td>\n",
       "      <td>...</td>\n",
       "      <td>719.0</td>\n",
       "      <td>22.0</td>\n",
       "      <td>0.0</td>\n",
       "      <td>21470.0</td>\n",
       "      <td>19.2</td>\n",
       "      <td>38.0</td>\n",
       "      <td>w</td>\n",
       "      <td>Individual</td>\n",
       "      <td>4.0</td>\n",
       "      <td>0.0</td>\n",
       "    </tr>\n",
       "    <tr>\n",
       "      <th>2</th>\n",
       "      <td>68341763</td>\n",
       "      <td>20000.0</td>\n",
       "      <td>60 months</td>\n",
       "      <td>10.78</td>\n",
       "      <td>432.66</td>\n",
       "      <td>B</td>\n",
       "      <td>B4</td>\n",
       "      <td>truck driver</td>\n",
       "      <td>10+ years</td>\n",
       "      <td>MORTGAGE</td>\n",
       "      <td>...</td>\n",
       "      <td>699.0</td>\n",
       "      <td>6.0</td>\n",
       "      <td>0.0</td>\n",
       "      <td>7869.0</td>\n",
       "      <td>56.2</td>\n",
       "      <td>18.0</td>\n",
       "      <td>w</td>\n",
       "      <td>Joint App</td>\n",
       "      <td>5.0</td>\n",
       "      <td>0.0</td>\n",
       "    </tr>\n",
       "    <tr>\n",
       "      <th>3</th>\n",
       "      <td>68476807</td>\n",
       "      <td>10400.0</td>\n",
       "      <td>60 months</td>\n",
       "      <td>22.45</td>\n",
       "      <td>289.91</td>\n",
       "      <td>F</td>\n",
       "      <td>F1</td>\n",
       "      <td>Contract Specialist</td>\n",
       "      <td>3 years</td>\n",
       "      <td>MORTGAGE</td>\n",
       "      <td>...</td>\n",
       "      <td>699.0</td>\n",
       "      <td>12.0</td>\n",
       "      <td>0.0</td>\n",
       "      <td>21929.0</td>\n",
       "      <td>64.5</td>\n",
       "      <td>35.0</td>\n",
       "      <td>w</td>\n",
       "      <td>Individual</td>\n",
       "      <td>6.0</td>\n",
       "      <td>0.0</td>\n",
       "    </tr>\n",
       "    <tr>\n",
       "      <th>4</th>\n",
       "      <td>68426831</td>\n",
       "      <td>11950.0</td>\n",
       "      <td>36 months</td>\n",
       "      <td>13.44</td>\n",
       "      <td>405.18</td>\n",
       "      <td>C</td>\n",
       "      <td>C3</td>\n",
       "      <td>Veterinary Tecnician</td>\n",
       "      <td>4 years</td>\n",
       "      <td>RENT</td>\n",
       "      <td>...</td>\n",
       "      <td>694.0</td>\n",
       "      <td>5.0</td>\n",
       "      <td>0.0</td>\n",
       "      <td>8822.0</td>\n",
       "      <td>68.4</td>\n",
       "      <td>6.0</td>\n",
       "      <td>w</td>\n",
       "      <td>Individual</td>\n",
       "      <td>0.0</td>\n",
       "      <td>0.0</td>\n",
       "    </tr>\n",
       "  </tbody>\n",
       "</table>\n",
       "<p>5 rows × 31 columns</p>\n",
       "</div>"
      ],
      "text/plain": [
       "         id  loan_amnt        term  int_rate  installment grade sub_grade  \\\n",
       "0  68407277     3600.0   36 months     13.99       123.03     C        C4   \n",
       "1  68355089    24700.0   36 months     11.99       820.28     C        C1   \n",
       "2  68341763    20000.0   60 months     10.78       432.66     B        B4   \n",
       "3  68476807    10400.0   60 months     22.45       289.91     F        F1   \n",
       "4  68426831    11950.0   36 months     13.44       405.18     C        C3   \n",
       "\n",
       "              emp_title emp_length home_ownership  ...  fico_range_high  \\\n",
       "0               leadman  10+ years       MORTGAGE  ...            679.0   \n",
       "1              Engineer  10+ years       MORTGAGE  ...            719.0   \n",
       "2          truck driver  10+ years       MORTGAGE  ...            699.0   \n",
       "3   Contract Specialist    3 years       MORTGAGE  ...            699.0   \n",
       "4  Veterinary Tecnician    4 years           RENT  ...            694.0   \n",
       "\n",
       "  open_acc pub_rec revol_bal revol_util total_acc initial_list_status  \\\n",
       "0      7.0     0.0    2765.0       29.7      13.0                   w   \n",
       "1     22.0     0.0   21470.0       19.2      38.0                   w   \n",
       "2      6.0     0.0    7869.0       56.2      18.0                   w   \n",
       "3     12.0     0.0   21929.0       64.5      35.0                   w   \n",
       "4      5.0     0.0    8822.0       68.4       6.0                   w   \n",
       "\n",
       "  application_type  mort_acc pub_rec_bankruptcies  \n",
       "0       Individual       1.0                  0.0  \n",
       "1       Individual       4.0                  0.0  \n",
       "2        Joint App       5.0                  0.0  \n",
       "3       Individual       6.0                  0.0  \n",
       "4       Individual       0.0                  0.0  \n",
       "\n",
       "[5 rows x 31 columns]"
      ]
     },
     "execution_count": 5,
     "metadata": {},
     "output_type": "execute_result"
    }
   ],
   "source": [
    "df.head()"
   ]
  },
  {
   "cell_type": "markdown",
   "id": "feature-engineering-subtitle-remove-features",
   "metadata": {
    "tags": []
   },
   "source": [
    "## Feature engineering"
   ]
  },
  {
   "cell_type": "markdown",
   "id": "68ed888d-5e71-4a48-97ce-744c4ff3a232",
   "metadata": {
    "tags": []
   },
   "source": [
    "### Remove feature with unique values"
   ]
  },
  {
   "cell_type": "code",
   "execution_count": 6,
   "id": "bbf20cdd-ea88-4354-aa39-ff3cb4f0ab9e",
   "metadata": {},
   "outputs": [],
   "source": [
    "df.drop(\"id\", axis=1, inplace=True)\n",
    "\n",
    "# Remove emp_title to many different values\n",
    "\n",
    "df = df.drop(labels=\"emp_title\", axis=1)\n",
    "df = df.drop(\"title\", axis=1)\n",
    "df = df.drop(labels=[\"zip_code\", \"addr_state\"], axis=1)\n",
    "\n",
    "    # Remove grade, redundant\n"
   ]
  },
  {
   "cell_type": "code",
   "execution_count": 7,
   "id": "0fb14dd3-12a0-4381-b13c-940143459e66",
   "metadata": {},
   "outputs": [],
   "source": [
    "# Remove redundant feature\n",
    "df = df.drop(\"grade\", axis=1)"
   ]
  },
  {
   "cell_type": "markdown",
   "id": "40f67247-f678-45a1-b43d-8539c1cb89ed",
   "metadata": {},
   "source": [
    "### Convert feature"
   ]
  },
  {
   "cell_type": "code",
   "execution_count": null,
   "id": "aac163c4-dab3-4ec5-9042-5f0b3baa5b70",
   "metadata": {},
   "outputs": [
    {
     "name": "stderr",
     "output_type": "stream",
     "text": [
      "/tmp/ipykernel_165/381009928.py:6: FutureWarning: A value is trying to be set on a copy of a DataFrame or Series through chained assignment using an inplace method.\n",
      "The behavior will change in pandas 3.0. This inplace method will never work because the intermediate object on which we are setting values always behaves as a copy.\n",
      "\n",
      "For example, when doing 'df[col].method(value, inplace=True)', try using 'df.method({col: value}, inplace=True)' or df[col] = df[col].method(value) instead, to perform the operation inplace on the original object.\n",
      "\n",
      "\n",
      "  df[\"emp_length\"].replace(to_replace=\"10+ years\", value=\"10 years\", inplace=True)\n",
      "/tmp/ipykernel_165/381009928.py:7: FutureWarning: A value is trying to be set on a copy of a DataFrame or Series through chained assignment using an inplace method.\n",
      "The behavior will change in pandas 3.0. This inplace method will never work because the intermediate object on which we are setting values always behaves as a copy.\n",
      "\n",
      "For example, when doing 'df[col].method(value, inplace=True)', try using 'df.method({col: value}, inplace=True)' or df[col] = df[col].method(value) instead, to perform the operation inplace on the original object.\n",
      "\n",
      "\n",
      "  df[\"emp_length\"].replace(\"< 1 year\", \"0 years\", inplace=True)\n"
     ]
    }
   ],
   "source": [
    "# convert term to integer\n",
    "df[\"term\"] = df[\"term\"].apply(lambda s: np.int8(s.split()[0]))\n",
    "\n",
    "# Convert emp_length\n",
    "\n",
    "df[\"emp_length\"].replace(to_replace=\"10+ years\", value=\"10 years\", inplace=True)\n",
    "df[\"emp_length\"].replace(\"< 1 year\", \"0 years\", inplace=True)\n",
    "\n",
    "\n",
    "def emp_length_to_int(s):\n",
    "    if pd.isnull(s):\n",
    "        return s\n",
    "    else:\n",
    "        return np.int8(s.split()[0])\n",
    "\n",
    "\n",
    "df[\"emp_length\"] = df[\"emp_length\"].apply(emp_length_to_int)\n",
    "\n",
    "# Convert date features\n",
    "df[\"earliest_cr_line\"] = pd.to_datetime(df[\"earliest_cr_line\"])\n",
    "df[\"issue_d\"] = pd.to_datetime(df[\"issue_d\"])\n",
    "\n",
    "# Convert subgrade to numeric\n",
    "replacements = [\n",
    "        (\"A\", \"1\"),\n",
    "        (\"B\", \"2\"),\n",
    "        (\"C\", \"3\"),\n",
    "        (\"D\", \"4\"),\n",
    "        (\"E\", \"5\"),\n",
    "        (\"F\", \"6\"),\n",
    "        (\"G\", \"7\"),\n",
    "    ]\n",
    "for r in replacements:\n",
    "    df[\"sub_grade\"] = df[\"sub_grade\"].str.replace(r[0], r[1])\n",
    "df[\"sub_grade\"] = df[\"sub_grade\"].astype(float)\n",
    "df[\"sub_grade\"] = df[\"sub_grade\"].replace(\n",
    "    np.sort(df[\"sub_grade\"].unique()),\n",
    "    np.arange(df[\"sub_grade\"].unique().shape[0]).astype(int),\n",
    ")"
   ]
  },
  {
   "cell_type": "code",
   "execution_count": null,
   "id": "12ba3bdf-2d4d-4356-93eb-db4179ec05a8",
   "metadata": {},
   "outputs": [],
   "source": [
    "# THE TARGET\n",
    "df[\"charged_off\"] = (df[\"loan_status\"] == \"Charged Off\").apply(np.uint8)\n",
    "df = df.drop(\"loan_status\", axis=1)\n"
   ]
  },
  {
   "cell_type": "markdown",
   "id": "1eeb1e37-0d48-4d53-9a7d-79a351432cdf",
   "metadata": {},
   "source": [
    "## Feature creation"
   ]
  },
  {
   "cell_type": "code",
   "execution_count": null,
   "id": "236f4937-0404-4c18-8b25-10914274d5de",
   "metadata": {},
   "outputs": [],
   "source": [
    "#  fico_range_low fico_range_high are correlated, take average\n",
    "\n",
    "df[\"fico_score\"] = 0.5 * df[\"fico_range_low\"] + 0.5 * df[\"fico_range_high\"]\n",
    "df = df.drop([\"fico_range_high\", \"fico_range_low\"], axis=1)\n",
    "\n",
    "# Feature creation\n",
    "\n",
    "\n",
    "def diff_date_month(a, b):\n",
    "    return 12 * (a.dt.year - b.dt.year) + (a.dt.month - b.dt.month)\n",
    "\n",
    "\n",
    "def ratio_pub_rec_pub_rec_bankruptcies(pub_rec_bankruptcies, pub_rec):\n",
    "    if pub_rec > 0:\n",
    "        return pub_rec_bankruptcies / pub_rec\n",
    "    else:\n",
    "        return -1\n",
    "\n",
    "\n",
    "df[\"month_of_year\"] = df[\"issue_d\"].dt.month - 1\n",
    "df[\"ratio_loan_amnt_annual_inc\"] = df[\"loan_amnt\"] / df[\"annual_inc\"]\n",
    "df[\"ratio_open_acc_total_acc\"] = df[\"open_acc\"] / df[\"total_acc\"]\n",
    "\n",
    "df[\"month_since_earliest_cr_line\"] = diff_date_month(\n",
    "    df[\"issue_d\"], df[\"earliest_cr_line\"]\n",
    ")\n",
    "df = df.drop(\"earliest_cr_line\", axis=1)\n",
    "\n",
    "df[\"ratio_pub_rec_month_since_earliest_cr_line\"] = (\n",
    "    df[\"pub_rec\"] / df[\"month_since_earliest_cr_line\"]\n",
    ")\n",
    "df[\"ratio_pub_rec_bankruptcies_month_since_earliest_cr_line\"] = (\n",
    "    df[\"pub_rec_bankruptcies\"] / df[\"month_since_earliest_cr_line\"]\n",
    ")\n",
    "df[\"ratio_pub_rec_bankruptcies_pub_rec\"] = df.apply(\n",
    "    lambda x: ratio_pub_rec_pub_rec_bankruptcies(x.pub_rec_bankruptcies, x.pub_rec),\n",
    "    axis=1,\n",
    ")\n"
   ]
  },
  {
   "cell_type": "markdown",
   "id": "395064c2-f98b-4bcc-a87b-859fc2c4a909",
   "metadata": {},
   "source": [
    "### Missing values"
   ]
  },
  {
   "cell_type": "code",
   "execution_count": null,
   "id": "047e43d5-f4de-420c-abd5-e333ad08fc58",
   "metadata": {},
   "outputs": [],
   "source": [
    "df = df.dropna()"
   ]
  },
  {
   "cell_type": "markdown",
   "id": "7ad69081-52c8-411d-b6f5-bb4d6a503959",
   "metadata": {},
   "source": [
    "### Feature type"
   ]
  },
  {
   "cell_type": "code",
   "execution_count": null,
   "id": "51749165-0e19-4c77-8116-edb669312623",
   "metadata": {},
   "outputs": [],
   "source": [
    "for e in [\n",
    "    \"open_acc\",\n",
    "    \"total_acc\",\n",
    "    \"emp_length\",\n",
    "    \"mort_acc\",\n",
    "    \"pub_rec_bankruptcies\",\n",
    "    \"month_since_earliest_cr_line\",\n",
    "    \"sub_grade\",\n",
    "]:\n",
    "    df[e] = df[e].astype(int)"
   ]
  },
  {
   "cell_type": "code",
   "execution_count": null,
   "id": "46dd7f9d-6467-4ed4-a8c7-1a1ab003fef7",
   "metadata": {
    "tags": []
   },
   "outputs": [],
   "source": [
    "# Categorical to numbers\n",
    "\n",
    "for e in [\n",
    "    \"initial_list_status\",\n",
    "    \"application_type\",\n",
    "    \"home_ownership\",\n",
    "    \"verification_status\",\n",
    "    \"purpose\",\n",
    "]:\n",
    "    unique_values = df[e].unique()\n",
    "    df[e] = df[e].replace(unique_values, np.arange(len(unique_values)))"
   ]
  },
  {
   "cell_type": "markdown",
   "id": "84dd8d9f-5c49-430a-ac04-7280e2298e8b",
   "metadata": {},
   "source": [
    "### Sort output by date"
   ]
  },
  {
   "cell_type": "code",
   "execution_count": null,
   "id": "f40566df-3378-455e-8781-c3f9e0d52f51",
   "metadata": {},
   "outputs": [],
   "source": [
    "df = df.sort_values(by=\"issue_d\")"
   ]
  },
  {
   "cell_type": "code",
   "execution_count": null,
   "id": "0742a930-4311-4336-baa8-c9f9226a06b7",
   "metadata": {},
   "outputs": [],
   "source": [
    "df.head()"
   ]
  },
  {
   "cell_type": "markdown",
   "id": "feature-engineering-subtitle-save-data",
   "metadata": {},
   "source": [
    "## Upload pandas dataframe to S3"
   ]
  },
  {
   "cell_type": "code",
   "execution_count": null,
   "id": "feature-engineering-code-save-data",
   "metadata": {},
   "outputs": [],
   "source": [
    "feature_filepath = f'{bucket_name}/{FEATURE_FILENAME}.csv'\n",
    "\n",
    "df.to_csv(\n",
    "    f's3://{feature_filepath}',\n",
    "    storage_options={\n",
    "        'client_kwargs': {'endpoint_url': MINIO_ENDPOINT}\n",
    "    },\n",
    "    index=False\n",
    ")"
   ]
  },
  {
   "cell_type": "code",
   "execution_count": null,
   "id": "19a1bf1b-2621-4300-9dd5-2e47ef34010f",
   "metadata": {},
   "outputs": [],
   "source": []
  }
 ],
 "metadata": {
  "kernelspec": {
   "display_name": "Python 3 (ipykernel)",
   "language": "python",
   "name": "python3"
  },
  "language_info": {
   "codemirror_mode": {
    "name": "ipython",
    "version": 3
   },
   "file_extension": ".py",
   "mimetype": "text/x-python",
   "name": "python",
   "nbconvert_exporter": "python",
   "pygments_lexer": "ipython3",
   "version": "3.12.2"
  }
 },
 "nbformat": 4,
 "nbformat_minor": 5
}

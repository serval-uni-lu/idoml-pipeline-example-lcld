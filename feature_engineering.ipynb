{
 "cells": [
  {
   "cell_type": "markdown",
   "id": "feature-engineering-title",
   "metadata": {},
   "source": [
    "# Feature engineering"
   ]
  },
  {
   "cell_type": "markdown",
   "id": "feature-engineering-dependency-management",
   "metadata": {},
   "source": [
    "## Dependency management"
   ]
  },
  {
   "cell_type": "code",
   "execution_count": null,
   "id": "feature-engineering-imports",
   "metadata": {},
   "outputs": [],
   "source": [
    "import pandas as pd\n",
    "import numpy as np\n",
    "import os"
   ]
  },
  {
   "cell_type": "markdown",
   "id": "feature-engineering-subtitle-minio",
   "metadata": {},
   "source": [
    "## Minio Bucket setup"
   ]
  },
  {
   "cell_type": "code",
   "execution_count": null,
   "id": "feature-engineering-env-vars",
   "metadata": {},
   "outputs": [],
   "source": [
    "AWS_ACCESS_KEY_ID = os.environ['AWS_ACCESS_KEY_ID']\n",
    "AWS_SECRET_ACCESS_KEY = os.environ['AWS_SECRET_ACCESS_KEY']\n",
    "MINIO_ENDPOINT = 'http://minio.idoml.precision.uni.lux'\n",
    "CLEANED_FILENAME = 'lcld/cleaned_data'\n",
    "FEATURE_FILENAME = 'lcld/feature_data'"
   ]
  },
  {
   "cell_type": "code",
   "execution_count": null,
   "id": "feature-engineering-path",
   "metadata": {},
   "outputs": [],
   "source": [
    "bucket_name = 'datasets'\n",
    "filepath = f'{bucket_name}/{CLEANED_FILENAME}.csv'"
   ]
  },
  {
   "cell_type": "markdown",
   "id": "feature-engineering-subtitle-load-data",
   "metadata": {},
   "source": [
    "## Load pandas dataframe from S3"
   ]
  },
  {
   "cell_type": "code",
   "execution_count": null,
   "id": "feature-engineering-load-data",
   "metadata": {},
   "outputs": [],
   "source": [
    "df = pd.read_csv(\n",
    "    f's3://{filepath}',\n",
    "    storage_options={\n",
    "        'key': AWS_ACCESS_KEY_ID,\n",
    "        'secret': AWS_SECRET_ACCESS_KEY,\n",
    "        'token': None,\n",
    "        'client_kwargs': {'endpoint_url': MINIO_ENDPOINT}\n",
    "    }\n",
    ")"
   ]
  },
  {
   "cell_type": "markdown",
   "id": "feature-engineering-subtitle-remove-features",
   "metadata": {
    "tags": []
   },
   "source": [
    "## Feature engineering"
   ]
  },
  {
   "cell_type": "markdown",
   "id": "68ed888d-5e71-4a48-97ce-744c4ff3a232",
   "metadata": {
    "tags": []
   },
   "source": [
    "### Remove feature with unique values"
   ]
  },
  {
   "cell_type": "code",
   "execution_count": null,
   "id": "bbf20cdd-ea88-4354-aa39-ff3cb4f0ab9e",
   "metadata": {},
   "outputs": [],
   "source": [
    "df.drop(\"id\", axis=1, inplace=True)\n",
    "\n",
    "# Remove emp_title to many different values\n",
    "\n",
    "df = df.drop(labels=\"emp_title\", axis=1)\n",
    "df = df.drop(\"title\", axis=1)\n",
    "df = df.drop(labels=[\"zip_code\", \"addr_state\"], axis=1)\n",
    "\n",
    "    # Remove grade, redundant\n"
   ]
  },
  {
   "cell_type": "code",
   "execution_count": null,
   "id": "0fb14dd3-12a0-4381-b13c-940143459e66",
   "metadata": {},
   "outputs": [],
   "source": [
    "# Remove redundant feature\n",
    "df = df.drop(\"grade\", axis=1)"
   ]
  },
  {
   "cell_type": "markdown",
   "id": "40f67247-f678-45a1-b43d-8539c1cb89ed",
   "metadata": {},
   "source": [
    "### Convert feature"
   ]
  },
  {
   "cell_type": "code",
   "execution_count": null,
   "id": "aac163c4-dab3-4ec5-9042-5f0b3baa5b70",
   "metadata": {},
   "outputs": [],
   "source": [
    "# convert term to integer\n",
    "df[\"term\"] = df[\"term\"].apply(lambda s: np.int8(s.split()[0]))\n",
    "\n",
    "# Convert emp_length\n",
    "\n",
    "df[\"emp_length\"].replace(to_replace=\"10+ years\", value=\"10 years\", inplace=True)\n",
    "df[\"emp_length\"].replace(\"< 1 year\", \"0 years\", inplace=True)\n",
    "\n",
    "\n",
    "def emp_length_to_int(s):\n",
    "    if pd.isnull(s):\n",
    "        return s\n",
    "    else:\n",
    "        return np.int8(s.split()[0])\n",
    "\n",
    "\n",
    "df[\"emp_length\"] = df[\"emp_length\"].apply(emp_length_to_int)\n",
    "\n",
    "# Convert date features\n",
    "df[\"earliest_cr_line\"] = pd.to_datetime(df[\"earliest_cr_line\"])\n",
    "df[\"issue_d\"] = pd.to_datetime(df[\"issue_d\"])\n",
    "\n",
    "# Convert subgrade to numeric\n",
    "replacements = [\n",
    "        (\"A\", \"1\"),\n",
    "        (\"B\", \"2\"),\n",
    "        (\"C\", \"3\"),\n",
    "        (\"D\", \"4\"),\n",
    "        (\"E\", \"5\"),\n",
    "        (\"F\", \"6\"),\n",
    "        (\"G\", \"7\"),\n",
    "    ]\n",
    "for r in replacements:\n",
    "    df[\"sub_grade\"] = df[\"sub_grade\"].str.replace(r[0], r[1])\n",
    "df[\"sub_grade\"] = df[\"sub_grade\"].astype(float)\n",
    "df[\"sub_grade\"] = df[\"sub_grade\"].replace(\n",
    "    np.sort(df[\"sub_grade\"].unique()),\n",
    "    np.arange(df[\"sub_grade\"].unique().shape[0]).astype(int),\n",
    ")"
   ]
  },
  {
   "cell_type": "code",
   "execution_count": null,
   "id": "12ba3bdf-2d4d-4356-93eb-db4179ec05a8",
   "metadata": {},
   "outputs": [],
   "source": [
    "# THE TARGET\n",
    "df[\"charged_off\"] = (df[\"loan_status\"] == \"Charged Off\").apply(np.uint8)\n",
    "df = df.drop(\"loan_status\", axis=1)\n"
   ]
  },
  {
   "cell_type": "markdown",
   "id": "1eeb1e37-0d48-4d53-9a7d-79a351432cdf",
   "metadata": {},
   "source": [
    "## Feature creation"
   ]
  },
  {
   "cell_type": "code",
   "execution_count": null,
   "id": "236f4937-0404-4c18-8b25-10914274d5de",
   "metadata": {},
   "outputs": [],
   "source": [
    "#  fico_range_low fico_range_high are correlated, take average\n",
    "\n",
    "df[\"fico_score\"] = 0.5 * df[\"fico_range_low\"] + 0.5 * df[\"fico_range_high\"]\n",
    "df = df.drop([\"fico_range_high\", \"fico_range_low\"], axis=1)\n",
    "\n",
    "# Feature creation\n",
    "\n",
    "\n",
    "def diff_date_month(a, b):\n",
    "    return 12 * (a.dt.year - b.dt.year) + (a.dt.month - b.dt.month)\n",
    "\n",
    "\n",
    "def ratio_pub_rec_pub_rec_bankruptcies(pub_rec_bankruptcies, pub_rec):\n",
    "    if pub_rec > 0:\n",
    "        return pub_rec_bankruptcies / pub_rec\n",
    "    else:\n",
    "        return -1\n",
    "\n",
    "\n",
    "df[\"month_of_year\"] = df[\"issue_d\"].dt.month - 1\n",
    "df[\"ratio_loan_amnt_annual_inc\"] = df[\"loan_amnt\"] / df[\"annual_inc\"]\n",
    "df[\"ratio_open_acc_total_acc\"] = df[\"open_acc\"] / df[\"total_acc\"]\n",
    "\n",
    "df[\"month_since_earliest_cr_line\"] = diff_date_month(\n",
    "    df[\"issue_d\"], df[\"earliest_cr_line\"]\n",
    ")\n",
    "df = df.drop(\"earliest_cr_line\", axis=1)\n",
    "\n",
    "df[\"ratio_pub_rec_month_since_earliest_cr_line\"] = (\n",
    "    df[\"pub_rec\"] / df[\"month_since_earliest_cr_line\"]\n",
    ")\n",
    "df[\"ratio_pub_rec_bankruptcies_month_since_earliest_cr_line\"] = (\n",
    "    df[\"pub_rec_bankruptcies\"] / df[\"month_since_earliest_cr_line\"]\n",
    ")\n",
    "df[\"ratio_pub_rec_bankruptcies_pub_rec\"] = df.apply(\n",
    "    lambda x: ratio_pub_rec_pub_rec_bankruptcies(x.pub_rec_bankruptcies, x.pub_rec),\n",
    "    axis=1,\n",
    ")\n"
   ]
  },
  {
   "cell_type": "markdown",
   "id": "395064c2-f98b-4bcc-a87b-859fc2c4a909",
   "metadata": {},
   "source": [
    "### Missing values"
   ]
  },
  {
   "cell_type": "code",
   "execution_count": null,
   "id": "047e43d5-f4de-420c-abd5-e333ad08fc58",
   "metadata": {},
   "outputs": [],
   "source": [
    "df = df.dropna()"
   ]
  },
  {
   "cell_type": "markdown",
   "id": "7ad69081-52c8-411d-b6f5-bb4d6a503959",
   "metadata": {},
   "source": [
    "### Feature type"
   ]
  },
  {
   "cell_type": "code",
   "execution_count": null,
   "id": "51749165-0e19-4c77-8116-edb669312623",
   "metadata": {},
   "outputs": [],
   "source": [
    "for e in [\n",
    "    \"open_acc\",\n",
    "    \"total_acc\",\n",
    "    \"emp_length\",\n",
    "    \"mort_acc\",\n",
    "    \"pub_rec_bankruptcies\",\n",
    "    \"month_since_earliest_cr_line\",\n",
    "    \"sub_grade\",\n",
    "]:\n",
    "    df[e] = df[e].astype(int)"
   ]
  },
  {
   "cell_type": "markdown",
   "id": "84dd8d9f-5c49-430a-ac04-7280e2298e8b",
   "metadata": {},
   "source": [
    "### Sort output by date"
   ]
  },
  {
   "cell_type": "code",
   "execution_count": null,
   "id": "f40566df-3378-455e-8781-c3f9e0d52f51",
   "metadata": {},
   "outputs": [],
   "source": [
    "df = df.sort_values(by=\"issue_d\")"
   ]
  },
  {
   "cell_type": "code",
   "execution_count": null,
   "id": "0742a930-4311-4336-baa8-c9f9226a06b7",
   "metadata": {},
   "outputs": [],
   "source": [
    "df"
   ]
  },
  {
   "cell_type": "markdown",
   "id": "feature-engineering-subtitle-save-data",
   "metadata": {},
   "source": [
    "## Upload pandas dataframe to S3"
   ]
  },
  {
   "cell_type": "code",
   "execution_count": null,
   "id": "feature-engineering-code-save-data",
   "metadata": {},
   "outputs": [],
   "source": [
    "feature_filepath = f'{bucket_name}/{FEATURE_FILENAME}.csv'\n",
    "\n",
    "df.to_csv(\n",
    "    f's3://{feature_filepath}',\n",
    "    storage_options={\n",
    "        'key': AWS_ACCESS_KEY_ID,\n",
    "        'secret': AWS_SECRET_ACCESS_KEY,\n",
    "        'token': None,\n",
    "        'client_kwargs': {'endpoint_url': MINIO_ENDPOINT}\n",
    "    }\n",
    ")"
   ]
  },
  {
   "cell_type": "code",
   "execution_count": null,
   "id": "19a1bf1b-2621-4300-9dd5-2e47ef34010f",
   "metadata": {},
   "outputs": [],
   "source": []
  }
 ],
 "metadata": {
  "kernelspec": {
   "display_name": "Python 3 (ipykernel)",
   "language": "python",
   "name": "python3"
  },
  "language_info": {
   "codemirror_mode": {
    "name": "ipython",
    "version": 3
   },
   "file_extension": ".py",
   "mimetype": "text/x-python",
   "name": "python",
   "nbconvert_exporter": "python",
   "pygments_lexer": "ipython3",
   "version": "3.11.7"
  }
 },
 "nbformat": 4,
 "nbformat_minor": 5
}

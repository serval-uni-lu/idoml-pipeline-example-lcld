{
 "cells": [
  {
   "cell_type": "markdown",
   "id": "476cd586-f5e3-4e2f-ade3-6db1c53fade3",
   "metadata": {},
   "source": [
    "# Model training"
   ]
  },
  {
   "cell_type": "markdown",
   "id": "8e25b73f-8f4a-43b7-8eda-59643c575821",
   "metadata": {},
   "source": [
    "## Dependency management"
   ]
  },
  {
   "cell_type": "code",
   "execution_count": null,
   "id": "d933f8ca-e1a6-489b-8407-1f00437ee99d",
   "metadata": {
    "tags": []
   },
   "outputs": [],
   "source": [
    "import numpy as np\n",
    "import os"
   ]
  },
  {
   "cell_type": "code",
   "execution_count": null,
   "id": "d62133ad-4c8a-4a5b-9407-0d017e1fbf71",
   "metadata": {
    "tags": []
   },
   "outputs": [],
   "source": [
    "import mlflow\n",
    "import mlflow.sklearn\n",
    "import pandas as pd\n",
    "from sklearn.ensemble import RandomForestClassifier\n",
    "from sklearn.metrics import (accuracy_score, mean_absolute_error,\n",
    "                             precision_score, recall_score, matthews_corrcoef)\n",
    "from sklearn.preprocessing import StandardScaler, OneHotEncoder\n",
    "from sklearn.compose import ColumnTransformer\n",
    "from sklearn.model_selection import train_test_split\n",
    "from sklearn.pipeline import Pipeline\n",
    "from sklearn.model_selection import GridSearchCV"
   ]
  },
  {
   "cell_type": "markdown",
   "id": "3f08afc9-932e-42cd-bf7a-08a36ab91b7e",
   "metadata": {
    "tags": []
   },
   "source": [
    "## Minio Bucket setup"
   ]
  },
  {
   "cell_type": "code",
   "execution_count": null,
   "id": "3659e248-05e4-489e-8dab-739bca6226c3",
   "metadata": {
    "tags": []
   },
   "outputs": [],
   "source": [
    "MLFLOW_EXP_NAME = os.environ.get('MLFLOW_EXP_NAME', 'credit_scoring')\n",
    "\n",
    "FEATURE_FILENAME = 'lcld/feature_data'"
   ]
  },
  {
   "cell_type": "code",
   "execution_count": null,
   "id": "0905aeb4-3615-40a2-9a16-7ab3dea12f1d",
   "metadata": {
    "tags": []
   },
   "outputs": [],
   "source": [
    "bucket_name = 'datasets'\n",
    "filepath = f'{bucket_name}/{FEATURE_FILENAME}.csv'"
   ]
  },
  {
   "cell_type": "markdown",
   "id": "bfac0095-bfa8-4d2f-ba4c-d5639513178e",
   "metadata": {},
   "source": [
    "## Load pandas dataframe from S3"
   ]
  },
  {
   "cell_type": "code",
   "execution_count": null,
   "id": "dbf47236-1c1d-44fb-a320-9d61e80742e5",
   "metadata": {
    "tags": []
   },
   "outputs": [],
   "source": [
    "df = pd.read_csv(\n",
    "    f's3://{filepath}',\n",
    ")"
   ]
  },
  {
   "cell_type": "code",
   "execution_count": null,
   "id": "876a3ea0-7a5a-45f1-94cb-d57fa370800d",
   "metadata": {
    "tags": []
   },
   "outputs": [],
   "source": [
    "df.head()"
   ]
  },
  {
   "cell_type": "markdown",
   "id": "0fd7fadb-287f-4c26-bae5-f599be35fbed",
   "metadata": {},
   "source": [
    "## transform data frame type"
   ]
  },
  {
   "cell_type": "code",
   "execution_count": null,
   "id": "1d0f021c-a1d8-4011-a1ce-0d52cdd8f7f9",
   "metadata": {
    "tags": []
   },
   "outputs": [],
   "source": [
    "df = df.drop('issue_d', axis=1)"
   ]
  },
  {
   "cell_type": "code",
   "execution_count": null,
   "id": "2d605a23-c971-4bda-87e4-a85aff70e2b5",
   "metadata": {
    "tags": []
   },
   "outputs": [],
   "source": [
    "feature = df.columns.drop('charged_off')\n",
    "\n",
    "cat_feature = [\n",
    "    \"initial_list_status\",\n",
    "    \"application_type\",\n",
    "    \"home_ownership\",\n",
    "    \"verification_status\",\n",
    "    \"purpose\",\n",
    "]\n",
    "\n",
    "# Convert np.arange to list\n",
    "cat_range = [\n",
    "    list(np.arange(int(df[f].min()), int(df[f].max()) + 1))\n",
    "    for f in cat_feature\n",
    "]\n",
    "\n",
    "for f in cat_feature:\n",
    "    df[f] = df[f].astype('category')\n",
    "\n",
    "num_feature = list(set(feature) - set(cat_feature))"
   ]
  },
  {
   "cell_type": "markdown",
   "id": "61646580-ed1d-4f0c-994b-8becaa99f15b",
   "metadata": {},
   "source": [
    "## Split train test"
   ]
  },
  {
   "cell_type": "code",
   "execution_count": null,
   "id": "353ebdfa-7e70-4334-9f99-b3042b127255",
   "metadata": {
    "tags": []
   },
   "outputs": [],
   "source": [
    "y = pd.factorize(df['charged_off'])[0]\n",
    "X = df.drop(columns=['charged_off'])\n",
    "\n",
    "X_train, X_test, y_train, y_test = train_test_split(X, y, test_size=0.33)"
   ]
  },
  {
   "cell_type": "markdown",
   "id": "b3726a0d-838d-48b8-9c70-ec91f3aede8d",
   "metadata": {},
   "source": [
    "## Define model parameters"
   ]
  },
  {
   "cell_type": "code",
   "execution_count": null,
   "id": "97dd6f49-c95f-4181-8542-9c61df2e67f7",
   "metadata": {
    "tags": []
   },
   "outputs": [],
   "source": [
    "rf_parameters = {\n",
    "    \"n_estimators\": 125,\n",
    "    \"min_samples_split\": 6,\n",
    "    \"min_samples_leaf\": 2,\n",
    "    \"max_depth\": 10,\n",
    "    \"bootstrap\": True,\n",
    "    \"class_weight\": \"balanced\",\n",
    "}"
   ]
  },
  {
   "cell_type": "markdown",
   "id": "044aaafe-f57e-441d-a87b-9edafb7741db",
   "metadata": {},
   "source": [
    "## Instantiate pipeline, model and transformer"
   ]
  },
  {
   "cell_type": "code",
   "execution_count": null,
   "id": "76a81a5d-ccff-4e2c-9721-c979581847b4",
   "metadata": {
    "tags": []
   },
   "outputs": [],
   "source": [
    "transformer = ColumnTransformer(\n",
    "    transformers=[\n",
    "        (\"num\", StandardScaler(), num_feature),\n",
    "        (\n",
    "            \"cat\",\n",
    "            OneHotEncoder(\n",
    "                sparse_output=False,\n",
    "                handle_unknown=\"ignore\",\n",
    "                drop=\"if_binary\",\n",
    "                categories=cat_range,\n",
    "            ),\n",
    "            cat_feature,\n",
    "        ),\n",
    "    ],\n",
    "    sparse_threshold=0,\n",
    "    remainder=\"passthrough\",\n",
    "    n_jobs=-1,\n",
    ")\n",
    "\n",
    "\n",
    "model = RandomForestClassifier(\n",
    "    **rf_parameters,\n",
    "    random_state=42,\n",
    "    n_jobs=-1,\n",
    ")\n",
    "\n",
    "\n",
    "pipe = Pipeline(steps=[\n",
    "    ('preprocessor', transformer),\n",
    "    ('classifier', model)\n",
    "])\n"
   ]
  },
  {
   "cell_type": "markdown",
   "id": "b9ad709d-8f07-47c2-a7da-10dbb7d777c3",
   "metadata": {},
   "source": [
    "## Training"
   ]
  },
  {
   "cell_type": "code",
   "execution_count": null,
   "id": "909ec2ee-5ac2-492c-ab4b-3fc8f8b04764",
   "metadata": {
    "tags": []
   },
   "outputs": [],
   "source": [
    "pipe.fit(X_train, y_train)"
   ]
  },
  {
   "cell_type": "markdown",
   "id": "8416f66e-3a97-4cfe-805c-007835ec6222",
   "metadata": {},
   "source": [
    "## Evaluation"
   ]
  },
  {
   "cell_type": "code",
   "execution_count": null,
   "id": "18b51e78-f2a4-4c92-bf81-10011575a5d9",
   "metadata": {
    "tags": []
   },
   "outputs": [],
   "source": [
    "# make predictions\n",
    "yhat = pipe.predict(X_test)\n",
    "\n",
    "mae = mean_absolute_error(y_test, yhat)\n",
    "print('MAE: %.3f' % mae)\n",
    "accuracy = accuracy_score(y_test, yhat)\n",
    "print('accuracy: %.3f' % accuracy)\n",
    "precision = precision_score(y_test, yhat)\n",
    "print('precision: %.3f' % precision)\n",
    "recall = recall_score(y_test, yhat)\n",
    "print('recall: %.3f' % recall)\n",
    "matthews = matthews_corrcoef(y_test, yhat)\n",
    "print('matthews: %.3f' % matthews)"
   ]
  },
  {
   "cell_type": "code",
   "execution_count": null,
   "id": "f6dcee8a-d8dd-43e4-9a40-8ad6812615ed",
   "metadata": {
    "tags": []
   },
   "outputs": [],
   "source": [
    "mlflow.set_experiment(MLFLOW_EXP_NAME)\n",
    "with mlflow.start_run(run_name='RandomForest'):\n",
    "    for key, value in rf_parameters.items():\n",
    "        mlflow.log_param(key, value)\n",
    "\n",
    "    mlflow.log_metric('accuracy', accuracy)\n",
    "    mlflow.log_metric('precision', precision)\n",
    "    mlflow.log_metric('recall', recall)\n",
    "    mlflow.log_metric('MAE', mae)\n",
    "    mlflow.log_metric('matthews', matthews)\n",
    "    \n",
    "    mlflow.sklearn.log_model(pipe, artifact_path='model')"
   ]
  },
  {
   "cell_type": "code",
   "execution_count": null,
   "id": "ef86959d-d8be-43fc-8e2b-17d34406f36e",
   "metadata": {},
   "outputs": [],
   "source": []
  }
 ],
 "metadata": {
  "kernelspec": {
   "display_name": "Python 3 (ipykernel)",
   "language": "python",
   "name": "python3"
  },
  "language_info": {
   "codemirror_mode": {
    "name": "ipython",
    "version": 3
   },
   "file_extension": ".py",
   "mimetype": "text/x-python",
   "name": "python",
   "nbconvert_exporter": "python",
   "pygments_lexer": "ipython3",
   "version": "3.12.2"
  }
 },
 "nbformat": 4,
 "nbformat_minor": 5
}

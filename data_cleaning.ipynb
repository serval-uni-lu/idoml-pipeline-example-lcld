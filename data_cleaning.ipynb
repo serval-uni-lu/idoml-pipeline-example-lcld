{
 "cells": [
  {
   "cell_type": "markdown",
   "id": "0f4fb11d-6b39-4958-862e-7b3cd5c34133",
   "metadata": {
    "tags": []
   },
   "source": [
    "# Data Cleaning"
   ]
  },
  {
   "cell_type": "markdown",
   "id": "074f6a8c-806e-4b59-bbb5-b40cf0cfb2f8",
   "metadata": {},
   "source": [
    "## Dependency management"
   ]
  },
  {
   "cell_type": "code",
   "execution_count": null,
   "id": "7780e7ec-1420-4663-9f86-71c3be7a67d5",
   "metadata": {},
   "outputs": [],
   "source": [
    "import pandas as pd\n",
    "import os"
   ]
  },
  {
   "cell_type": "markdown",
   "id": "041d51b8-7974-4e3f-ac99-1af15fb73d2b",
   "metadata": {},
   "source": [
    "## Minio Bucket setup"
   ]
  },
  {
   "cell_type": "code",
   "execution_count": null,
   "id": "271e2176-dd75-4b4c-94df-32779a3558b4",
   "metadata": {},
   "outputs": [],
   "source": [
    "RAW_FILENAME = 'lcld/raw_data'\n",
    "CLEANED_FILENAME = 'lcld/cleaned_data'"
   ]
  },
  {
   "cell_type": "code",
   "execution_count": null,
   "id": "634ee17a-3c22-4753-9c85-a7aa43af3dc5",
   "metadata": {},
   "outputs": [],
   "source": [
    "bucket_name = 'datasets'\n",
    "filepath = f'{bucket_name}/{RAW_FILENAME}.csv'"
   ]
  },
  {
   "cell_type": "markdown",
   "id": "f51d2a24-2caa-4d67-bb55-eb3d8afb1bad",
   "metadata": {},
   "source": [
    "## Load pandas dataframe from S3"
   ]
  },
  {
   "cell_type": "code",
   "execution_count": null,
   "id": "2adcebd5-ca2e-4ac8-a268-550a916dda10",
   "metadata": {},
   "outputs": [],
   "source": [
    "df = pd.read_csv(\n",
    "    f's3://{filepath}',\n",
    ")"
   ]
  },
  {
   "cell_type": "code",
   "execution_count": null,
   "id": "8795d8d6-8775-4fed-a469-4c41db9b250c",
   "metadata": {
    "tags": []
   },
   "outputs": [],
   "source": [
    "df.head()"
   ]
  },
  {
   "cell_type": "markdown",
   "id": "f45bfe80-1eba-42e2-874c-281c7cb22b16",
   "metadata": {
    "tags": []
   },
   "source": [
    "## Target\n",
    "\n",
    "We remove samples for which we do not have target."
   ]
  },
  {
   "cell_type": "code",
   "execution_count": null,
   "id": "100fe3ce-ff24-4e2e-a5b5-c7fd0bd83bbd",
   "metadata": {},
   "outputs": [],
   "source": [
    "df = df.loc[df[\"loan_status\"].isin([\"Fully Paid\", \"Charged Off\"])]"
   ]
  },
  {
   "cell_type": "markdown",
   "id": "505fc1ad-e932-4ec0-bf7e-103a976fb0e0",
   "metadata": {},
   "source": [
    "### Unavailable data\n",
    "\n",
    "Remove data that is not available at prediction time"
   ]
  },
  {
   "cell_type": "code",
   "execution_count": null,
   "id": "35955fd1-ff1d-41ea-aa26-56778152fbe4",
   "metadata": {},
   "outputs": [],
   "source": [
    "keep_list = [\n",
    "    \"addr_state\",\n",
    "    \"annual_inc\",\n",
    "    \"application_type\",\n",
    "    \"dti\",\n",
    "    \"earliest_cr_line\",\n",
    "    \"emp_length\",\n",
    "    \"emp_title\",\n",
    "    \"fico_range_high\",\n",
    "    \"fico_range_low\",\n",
    "    \"grade\",\n",
    "    \"home_ownership\",\n",
    "    \"id\",\n",
    "    \"initial_list_status\",\n",
    "    \"installment\",\n",
    "    \"int_rate\",\n",
    "    \"issue_d\",\n",
    "    \"loan_amnt\",\n",
    "    \"loan_status\",\n",
    "    \"mort_acc\",\n",
    "    \"open_acc\",\n",
    "    \"pub_rec\",\n",
    "    \"pub_rec_bankruptcies\",\n",
    "    \"purpose\",\n",
    "    \"revol_bal\",\n",
    "    \"revol_util\",\n",
    "    \"sub_grade\",\n",
    "    \"term\",\n",
    "    \"title\",\n",
    "    \"total_acc\",\n",
    "    \"verification_status\",\n",
    "    \"zip_code\",\n",
    "]\n",
    "drop_list = [col for col in df.columns if col not in keep_list]\n",
    "df = df.drop(labels=drop_list, axis=1)"
   ]
  },
  {
   "cell_type": "markdown",
   "id": "020df7d2-96f6-4b11-9cfa-6d1701e9bdfc",
   "metadata": {
    "tags": []
   },
   "source": [
    "## Upload pandas dataframe to S3"
   ]
  },
  {
   "cell_type": "code",
   "execution_count": null,
   "id": "210f7730-025f-4c62-a92d-c3a56ea44e7c",
   "metadata": {},
   "outputs": [],
   "source": [
    "cleand_filepath = f'{bucket_name}/{CLEANED_FILENAME}.csv'\n",
    "\n",
    "df.to_csv(\n",
    "    f's3://{cleand_filepath}',\n",
    "    index=False\n",
    ")"
   ]
  },
  {
   "cell_type": "code",
   "execution_count": null,
   "id": "bc92230b-95db-4d82-87c6-19831f30ae74",
   "metadata": {},
   "outputs": [],
   "source": []
  }
 ],
 "metadata": {
  "kernelspec": {
   "display_name": "Python 3 (ipykernel)",
   "language": "python",
   "name": "python3"
  },
  "language_info": {
   "codemirror_mode": {
    "name": "ipython",
    "version": 3
   },
   "file_extension": ".py",
   "mimetype": "text/x-python",
   "name": "python",
   "nbconvert_exporter": "python",
   "pygments_lexer": "ipython3",
   "version": "3.12.2"
  }
 },
 "nbformat": 4,
 "nbformat_minor": 5
}

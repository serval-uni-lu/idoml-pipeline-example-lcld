{
 "cells": [
  {
   "cell_type": "code",
   "execution_count": null,
   "id": "dd9e535c-ee54-4756-91ba-2f52784afb8e",
   "metadata": {
    "tags": []
   },
   "outputs": [],
   "source": [
    "!kaggle datasets download --unzip ethon0426/lending-club-20072020q1"
   ]
  },
  {
   "cell_type": "code",
   "execution_count": null,
   "id": "8ef402e6-df5f-4dbf-ad28-7c535a8b1682",
   "metadata": {},
   "outputs": [],
   "source": [
    "!mv Loan_status_2007-2020Q3.gzip Loan_status.csv"
   ]
  },
  {
   "cell_type": "code",
   "execution_count": null,
   "id": "70824f8a-415b-4ba0-b65d-fbb9d1674a6d",
   "metadata": {
    "tags": []
   },
   "outputs": [],
   "source": [
    "import pandas as pd\n",
    "import os"
   ]
  },
  {
   "cell_type": "code",
   "execution_count": null,
   "id": "1bfdbcce-9c0a-42e2-bd38-b18772a35b83",
   "metadata": {
    "tags": []
   },
   "outputs": [],
   "source": [
    "MINIO_ENDPOINT = os.environ['MINIO_ENDPOINT']"
   ]
  },
  {
   "cell_type": "code",
   "execution_count": null,
   "id": "fbbd6f65-8585-457e-9254-4c97d3054052",
   "metadata": {
    "tags": []
   },
   "outputs": [],
   "source": [
    "df = pd.read_csv('Loan_status.csv', index_col=0)"
   ]
  },
  {
   "cell_type": "code",
   "execution_count": null,
   "id": "5a4a231b-67d1-46fa-a807-e720e48bb005",
   "metadata": {
    "tags": []
   },
   "outputs": [],
   "source": [
    "df.to_csv(\n",
    "    f's3://datasets/lcld/Loan_status.csv',\n",
    "    storage_options={\n",
    "        'client_kwargs': {'endpoint_url': MINIO_ENDPOINT}\n",
    "    },\n",
    "    index=False\n",
    ")"
   ]
  },
  {
   "cell_type": "code",
   "execution_count": null,
   "id": "36fd6036-e76e-4277-861c-883bcfde9b49",
   "metadata": {},
   "outputs": [],
   "source": []
  }
 ],
 "metadata": {
  "kernelspec": {
   "display_name": "Python 3 (ipykernel)",
   "language": "python",
   "name": "python3"
  },
  "language_info": {
   "codemirror_mode": {
    "name": "ipython",
    "version": 3
   },
   "file_extension": ".py",
   "mimetype": "text/x-python",
   "name": "python",
   "nbconvert_exporter": "python",
   "pygments_lexer": "ipython3",
   "version": "3.12.2"
  }
 },
 "nbformat": 4,
 "nbformat_minor": 5
}
